{
 "cells": [
  {
   "cell_type": "code",
   "execution_count": 95,
   "metadata": {},
   "outputs": [],
   "source": [
    "import numpy as np\n",
    "import pandas as pd\n",
    "import pandas.api.types as ptypes"
   ]
  },
  {
   "cell_type": "code",
   "execution_count": 96,
   "metadata": {},
   "outputs": [],
   "source": [
    "# The idea is now to create functions, that replace values of features or remove entire features.\n",
    "def remove_feats(df, list_of_feats):\n",
    "  '''\n",
    "  function that removes features from a pandas dataframe\n",
    "  df: pandas dataframe\n",
    "  list_of_feats: list of features to be removed\n",
    "  '''\n",
    "  df = df.drop(list_of_feats, axis = 1)\n",
    "  return df\n",
    "\n",
    "def replace_values(df, list_of_feats):\n",
    "  '''\n",
    "  function that replaces NaN values of features from a pandas datafram with the mean (numerical values) or the mode (categorical values)\n",
    "  df: pandas datafram\n",
    "  list_of_feats: list of features where the NaN values should be replaced\n",
    "  '''\n",
    "  for feat in list_of_feats:\n",
    "      if ptypes.is_numeric_dtype(df[feat]):\n",
    "          df[feat].fillna(df[feat].mean(), inplace=True)\n",
    "      elif ptypes.is_object_dtype(df[feat]) or ptypes.is_categorical_dtype(df[feat]):\n",
    "          df[feat].fillna(df[feat].mode()[0], inplace=True)\n",
    "      else:\n",
    "          print(f\"Unhandled dtype for feature: {feat}\")\n",
    "  return df"
   ]
  },
  {
   "cell_type": "code",
   "execution_count": 114,
   "metadata": {},
   "outputs": [],
   "source": [
    "# Import the train and test datasets, as well as the list of features to remove / replace\n",
    "train_set_df = pd.read_csv(r'train.csv')\n",
    "test_set_df = pd.read_csv(r'test.csv')\n",
    "\n",
    "with open(\"feats_to_remove.txt\", \"r\") as f:\n",
    "    feats_to_remove = list(set(line.strip() for line in f))\n",
    "\n",
    "with open(\"feats_to_replace.txt\", \"r\") as f:\n",
    "    feats_to_replace = list(set(line.strip() for line in f))"
   ]
  },
  {
   "cell_type": "code",
   "execution_count": 115,
   "metadata": {},
   "outputs": [
    {
     "name": "stdout",
     "output_type": "stream",
     "text": [
      "Number of features containing nan values:\n",
      "Training set:  19\n",
      "Test set:  33\n"
     ]
    }
   ],
   "source": [
    "# Check the number of features that have nan values: \n",
    "print('Number of features containing nan values:')\n",
    "print('Training set: ', train_set_df.isna().any().sum())\n",
    "print('Test set: ', test_set_df.isna().any().sum())"
   ]
  },
  {
   "cell_type": "code",
   "execution_count": 116,
   "metadata": {},
   "outputs": [],
   "source": [
    "# Process the datasets:\n",
    "train_set_df_without_nan = replace_values(remove_feats(train_set_df, list_of_feats = feats_to_remove), list_of_feats = feats_to_replace)\n",
    "test_set_df_without_nan = replace_values(remove_feats(test_set_df, list_of_feats = feats_to_remove), list_of_feats = feats_to_replace)"
   ]
  },
  {
   "cell_type": "code",
   "execution_count": 117,
   "metadata": {},
   "outputs": [
    {
     "name": "stdout",
     "output_type": "stream",
     "text": [
      "Number of features containing nan values after manipulation:\n",
      "Training set:  0\n",
      "Test set:  0\n"
     ]
    }
   ],
   "source": [
    "# Check the number of features that have nan values: \n",
    "print('Number of features containing nan values after manipulation:')\n",
    "print('Training set: ', train_set_df_without_nan.isna().any().sum())\n",
    "print('Test set: ', test_set_df_without_nan.isna().any().sum())"
   ]
  }
 ],
 "metadata": {
  "kernelspec": {
   "display_name": "base",
   "language": "python",
   "name": "python3"
  },
  "language_info": {
   "codemirror_mode": {
    "name": "ipython",
    "version": 3
   },
   "file_extension": ".py",
   "mimetype": "text/x-python",
   "name": "python",
   "nbconvert_exporter": "python",
   "pygments_lexer": "ipython3",
   "version": "3.11.5"
  }
 },
 "nbformat": 4,
 "nbformat_minor": 2
}

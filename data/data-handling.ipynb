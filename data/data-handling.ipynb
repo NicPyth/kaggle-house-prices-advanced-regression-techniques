{
 "cells": [
  {
   "cell_type": "code",
   "execution_count": 8,
   "metadata": {},
   "outputs": [],
   "source": [
    "import numpy as np\n",
    "import pandas as pd\n",
    "import pandas.api.types as ptypes\n",
    "from sklearn.preprocessing import OneHotEncoder"
   ]
  },
  {
   "cell_type": "code",
   "execution_count": 2,
   "metadata": {},
   "outputs": [],
   "source": [
    "# The idea is now to create functions, that replace values of features or remove entire features.\n",
    "def remove_feats(df, list_of_feats):\n",
    "  '''\n",
    "  function that removes features from a pandas dataframe\n",
    "  df: pandas dataframe\n",
    "  list_of_feats: list of features to be removed\n",
    "  '''\n",
    "  df = df.drop(list_of_feats, axis = 1)\n",
    "  return df\n",
    "\n",
    "def replace_values(df, list_of_feats):\n",
    "  '''\n",
    "  function that replaces NaN values of features from a pandas datafram with the mean (numerical values) or the mode (categorical values)\n",
    "  df: pandas datafram\n",
    "  list_of_feats: list of features where the NaN values should be replaced\n",
    "  '''\n",
    "  for feat in list_of_feats:\n",
    "      if ptypes.is_numeric_dtype(df[feat]):\n",
    "          df[feat] = df[feat].fillna(df[feat].mean())\n",
    "      elif ptypes.is_object_dtype(df[feat]) or ptypes.is_categorical_dtype(df[feat]):\n",
    "          df[feat] = df[feat].fillna(df[feat].mode()[0])\n",
    "      else:\n",
    "            print(f\"Unhandled dtype for feature: {feat}\")\n",
    "  return df"
   ]
  },
  {
   "cell_type": "code",
   "execution_count": 3,
   "metadata": {},
   "outputs": [],
   "source": [
    "# Import the train and test datasets, as well as the list of features to remove / replace\n",
    "train_set_df = pd.read_csv(r'train.csv').copy()\n",
    "test_set_df = pd.read_csv(r'test.csv').copy()\n",
    "\n",
    "with open(\"feats_to_remove.txt\", \"r\") as f:\n",
    "    feats_to_remove = list(set(line.strip() for line in f))\n",
    "\n",
    "with open(\"feats_to_replace.txt\", \"r\") as f:\n",
    "    feats_to_replace = list(set(line.strip() for line in f))"
   ]
  },
  {
   "cell_type": "code",
   "execution_count": 4,
   "metadata": {},
   "outputs": [
    {
     "name": "stdout",
     "output_type": "stream",
     "text": [
      "Number of features containing nan values:\n",
      "Training set:  19\n",
      "Test set:  33\n"
     ]
    }
   ],
   "source": [
    "# Check the number of features that have nan values: \n",
    "print('Number of features containing nan values:')\n",
    "print('Training set: ', train_set_df.isna().any().sum())\n",
    "print('Test set: ', test_set_df.isna().any().sum())"
   ]
  },
  {
   "cell_type": "code",
   "execution_count": 5,
   "metadata": {},
   "outputs": [],
   "source": [
    "# Process the datasets:\n",
    "train_set_df_without_nan = replace_values(remove_feats(train_set_df, list_of_feats = feats_to_remove), list_of_feats = feats_to_replace)\n",
    "test_set_df_without_nan = replace_values(remove_feats(test_set_df, list_of_feats = feats_to_remove), list_of_feats = feats_to_replace)"
   ]
  },
  {
   "cell_type": "code",
   "execution_count": 6,
   "metadata": {},
   "outputs": [
    {
     "name": "stdout",
     "output_type": "stream",
     "text": [
      "Number of features containing nan values after manipulation:\n",
      "Training set:  0\n",
      "Test set:  0\n"
     ]
    }
   ],
   "source": [
    "# Check the number of features that have nan values: \n",
    "print('Number of features containing nan values after manipulation:')\n",
    "print('Training set: ', train_set_df_without_nan.isna().any().sum())\n",
    "print('Test set: ', test_set_df_without_nan.isna().any().sum())"
   ]
  },
  {
   "cell_type": "code",
   "execution_count": 13,
   "metadata": {},
   "outputs": [
    {
     "data": {
      "text/html": [
       "<div>\n",
       "<style scoped>\n",
       "    .dataframe tbody tr th:only-of-type {\n",
       "        vertical-align: middle;\n",
       "    }\n",
       "\n",
       "    .dataframe tbody tr th {\n",
       "        vertical-align: top;\n",
       "    }\n",
       "\n",
       "    .dataframe thead th {\n",
       "        text-align: right;\n",
       "    }\n",
       "</style>\n",
       "<table border=\"1\" class=\"dataframe\">\n",
       "  <thead>\n",
       "    <tr style=\"text-align: right;\">\n",
       "      <th></th>\n",
       "      <th>LotShape</th>\n",
       "      <th>MSZoning</th>\n",
       "    </tr>\n",
       "  </thead>\n",
       "  <tbody>\n",
       "    <tr>\n",
       "      <th>0</th>\n",
       "      <td>Reg</td>\n",
       "      <td>RL</td>\n",
       "    </tr>\n",
       "    <tr>\n",
       "      <th>1</th>\n",
       "      <td>Reg</td>\n",
       "      <td>RL</td>\n",
       "    </tr>\n",
       "    <tr>\n",
       "      <th>2</th>\n",
       "      <td>IR1</td>\n",
       "      <td>RL</td>\n",
       "    </tr>\n",
       "    <tr>\n",
       "      <th>3</th>\n",
       "      <td>IR1</td>\n",
       "      <td>RL</td>\n",
       "    </tr>\n",
       "    <tr>\n",
       "      <th>4</th>\n",
       "      <td>IR1</td>\n",
       "      <td>RL</td>\n",
       "    </tr>\n",
       "    <tr>\n",
       "      <th>...</th>\n",
       "      <td>...</td>\n",
       "      <td>...</td>\n",
       "    </tr>\n",
       "    <tr>\n",
       "      <th>1455</th>\n",
       "      <td>Reg</td>\n",
       "      <td>RL</td>\n",
       "    </tr>\n",
       "    <tr>\n",
       "      <th>1456</th>\n",
       "      <td>Reg</td>\n",
       "      <td>RL</td>\n",
       "    </tr>\n",
       "    <tr>\n",
       "      <th>1457</th>\n",
       "      <td>Reg</td>\n",
       "      <td>RL</td>\n",
       "    </tr>\n",
       "    <tr>\n",
       "      <th>1458</th>\n",
       "      <td>Reg</td>\n",
       "      <td>RL</td>\n",
       "    </tr>\n",
       "    <tr>\n",
       "      <th>1459</th>\n",
       "      <td>Reg</td>\n",
       "      <td>RL</td>\n",
       "    </tr>\n",
       "  </tbody>\n",
       "</table>\n",
       "<p>1460 rows × 2 columns</p>\n",
       "</div>"
      ],
      "text/plain": [
       "     LotShape MSZoning\n",
       "0         Reg       RL\n",
       "1         Reg       RL\n",
       "2         IR1       RL\n",
       "3         IR1       RL\n",
       "4         IR1       RL\n",
       "...       ...      ...\n",
       "1455      Reg       RL\n",
       "1456      Reg       RL\n",
       "1457      Reg       RL\n",
       "1458      Reg       RL\n",
       "1459      Reg       RL\n",
       "\n",
       "[1460 rows x 2 columns]"
      ]
     },
     "execution_count": 13,
     "metadata": {},
     "output_type": "execute_result"
    }
   ],
   "source": [
    "train_set_df_without_nan[['LotShape', 'MSZoning']]"
   ]
  },
  {
   "cell_type": "code",
   "execution_count": 26,
   "metadata": {},
   "outputs": [
    {
     "name": "stdout",
     "output_type": "stream",
     "text": [
      "['RL' 'RM' 'C (all)' 'FV' 'RH']\n",
      "['Pave' 'Grvl']\n",
      "['Reg' 'IR1' 'IR2' 'IR3']\n",
      "['Lvl' 'Bnk' 'Low' 'HLS']\n",
      "['AllPub' 'NoSeWa']\n",
      "['Inside' 'FR2' 'Corner' 'CulDSac' 'FR3']\n",
      "['Gtl' 'Mod' 'Sev']\n",
      "['CollgCr' 'Veenker' 'Crawfor' 'NoRidge' 'Mitchel' 'Somerst' 'NWAmes'\n",
      " 'OldTown' 'BrkSide' 'Sawyer' 'NridgHt' 'NAmes' 'SawyerW' 'IDOTRR'\n",
      " 'MeadowV' 'Edwards' 'Timber' 'Gilbert' 'StoneBr' 'ClearCr' 'NPkVill'\n",
      " 'Blmngtn' 'BrDale' 'SWISU' 'Blueste']\n",
      "['Norm' 'Feedr' 'PosN' 'Artery' 'RRAe' 'RRNn' 'RRAn' 'PosA' 'RRNe']\n",
      "['Norm' 'Artery' 'RRNn' 'Feedr' 'PosN' 'PosA' 'RRAn' 'RRAe']\n",
      "['1Fam' '2fmCon' 'Duplex' 'TwnhsE' 'Twnhs']\n",
      "['2Story' '1Story' '1.5Fin' '1.5Unf' 'SFoyer' 'SLvl' '2.5Unf' '2.5Fin']\n",
      "['Gable' 'Hip' 'Gambrel' 'Mansard' 'Flat' 'Shed']\n",
      "['CompShg' 'WdShngl' 'Metal' 'WdShake' 'Membran' 'Tar&Grv' 'Roll'\n",
      " 'ClyTile']\n",
      "['VinylSd' 'MetalSd' 'Wd Sdng' 'HdBoard' 'BrkFace' 'WdShing' 'CemntBd'\n",
      " 'Plywood' 'AsbShng' 'Stucco' 'BrkComm' 'AsphShn' 'Stone' 'ImStucc'\n",
      " 'CBlock']\n",
      "['VinylSd' 'MetalSd' 'Wd Shng' 'HdBoard' 'Plywood' 'Wd Sdng' 'CmentBd'\n",
      " 'BrkFace' 'Stucco' 'AsbShng' 'Brk Cmn' 'ImStucc' 'AsphShn' 'Stone'\n",
      " 'Other' 'CBlock']\n",
      "['Gd' 'TA' 'Ex' 'Fa']\n",
      "['TA' 'Gd' 'Fa' 'Po' 'Ex']\n",
      "['PConc' 'CBlock' 'BrkTil' 'Wood' 'Slab' 'Stone']\n",
      "['Gd' 'TA' 'Ex' 'Fa']\n",
      "['TA' 'Gd' 'Fa' 'Po']\n",
      "['No' 'Gd' 'Mn' 'Av']\n",
      "['GLQ' 'ALQ' 'Unf' 'Rec' 'BLQ' 'LwQ']\n",
      "['Unf' 'BLQ' 'ALQ' 'Rec' 'LwQ' 'GLQ']\n",
      "['GasA' 'GasW' 'Grav' 'Wall' 'OthW' 'Floor']\n",
      "['Ex' 'Gd' 'TA' 'Fa' 'Po']\n",
      "['Y' 'N']\n",
      "['SBrkr' 'FuseF' 'FuseA' 'FuseP' 'Mix']\n",
      "['Gd' 'TA' 'Ex' 'Fa']\n",
      "['Typ' 'Min1' 'Maj1' 'Min2' 'Mod' 'Maj2' 'Sev']\n",
      "['Attchd' 'Detchd' 'BuiltIn' 'CarPort' 'Basment' '2Types']\n",
      "['RFn' 'Unf' 'Fin']\n",
      "['TA' 'Fa' 'Gd' 'Ex' 'Po']\n",
      "['TA' 'Fa' 'Gd' 'Po' 'Ex']\n",
      "['Y' 'N' 'P']\n",
      "['WD' 'New' 'COD' 'ConLD' 'ConLI' 'CWD' 'ConLw' 'Con' 'Oth']\n",
      "['Normal' 'Abnorml' 'Partial' 'AdjLand' 'Alloca' 'Family']\n"
     ]
    }
   ],
   "source": [
    "def OneHotEncoding(df):\n",
    "  for column in df.columns:\n",
    "    if df[column].dtype == 'object':\n",
    "      print(df[column].unique())\n",
    "OneHotEncoding(train_set_df_without_nan)"
   ]
  }
 ],
 "metadata": {
  "kernelspec": {
   "display_name": "new-python-env",
   "language": "python",
   "name": "python3"
  },
  "language_info": {
   "codemirror_mode": {
    "name": "ipython",
    "version": 3
   },
   "file_extension": ".py",
   "mimetype": "text/x-python",
   "name": "python",
   "nbconvert_exporter": "python",
   "pygments_lexer": "ipython3",
   "version": "3.9.20"
  }
 },
 "nbformat": 4,
 "nbformat_minor": 2
}
